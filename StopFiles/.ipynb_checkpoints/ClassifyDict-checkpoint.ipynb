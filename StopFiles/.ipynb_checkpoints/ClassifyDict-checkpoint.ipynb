{
 "cells": [
  {
   "cell_type": "code",
   "execution_count": 8,
   "metadata": {},
   "outputs": [],
   "source": [
    "import pandas as pd\n",
    "import pickle\n",
    "from threading import Thread\n",
    "import os, math\n",
    "\n",
    "from nltk.corpus import stopwords\n",
    "from nltk.stem import SnowballStemmer\n",
    "import nltk\n",
    "stemmer = SnowballStemmer(\"english\")\n",
    "cachedStopWords = stopwords.words(\"english\")"
   ]
  },
  {
   "cell_type": "markdown",
   "metadata": {},
   "source": [
    "## THis is the classification system\n",
    "we will use it on raw and on stop data dict\n"
   ]
  },
  {
   "cell_type": "code",
   "execution_count": 9,
   "metadata": {},
   "outputs": [],
   "source": [
    "def save_it_all(obj, filename):\n",
    "    os.makedirs(os.path.dirname(filename), exist_ok=True)\n",
    "    with open(filename, 'wb') as output:  # Overwrites any existing file.\n",
    "        pickle.dump(obj, output, pickle.HIGHEST_PROTOCOL)\n",
    "    \n",
    "def load_objects(file):\n",
    "    with open(file, 'rb') as input:\n",
    "        return pickle.load(input)\n",
    "\n",
    "def saveFrame(df, name):\n",
    "    df.to_csv(name+\".csv\", index=False, sep=\",\", header=True)\n",
    "    save_it_all(df, name+\".pkl\")\n",
    "    "
   ]
  },
  {
   "cell_type": "code",
   "execution_count": 10,
   "metadata": {},
   "outputs": [],
   "source": [
    "# load stop data dict and vocab and stop frame\n",
    "stop_dict = load_objects(\"./stopBigDict.pkl\")\n",
    "stop_trained_frame = load_objects(\"./stop_training_data.pkl\")\n",
    "stop_vocab = load_objects(\"./stop_vocabulary.pkl\")\n",
    "# test data\n",
    "testFrame = pd.read_csv(\"../RawFiles/raw_test_data.csv\", sep=\",\")\n"
   ]
  },
  {
   "cell_type": "code",
   "execution_count": 14,
   "metadata": {},
   "outputs": [
    {
     "data": {
      "text/html": [
       "<div>\n",
       "<style scoped>\n",
       "    .dataframe tbody tr th:only-of-type {\n",
       "        vertical-align: middle;\n",
       "    }\n",
       "\n",
       "    .dataframe tbody tr th {\n",
       "        vertical-align: top;\n",
       "    }\n",
       "\n",
       "    .dataframe thead th {\n",
       "        text-align: right;\n",
       "    }\n",
       "</style>\n",
       "<table border=\"1\" class=\"dataframe\">\n",
       "  <thead>\n",
       "    <tr style=\"text-align: right;\">\n",
       "      <th></th>\n",
       "      <th>Type</th>\n",
       "      <th>Document</th>\n",
       "      <th>ClassProbability</th>\n",
       "      <th>WordPositions</th>\n",
       "      <th>WordCount</th>\n",
       "    </tr>\n",
       "  </thead>\n",
       "  <tbody>\n",
       "    <tr>\n",
       "      <th>0</th>\n",
       "      <td>medicine</td>\n",
       "      <td>info needed gaucher disease yr old male friend...</td>\n",
       "      <td>0.052599</td>\n",
       "      <td>96436</td>\n",
       "      <td>{'relative': {'count': 5, 'probability': 3.529...</td>\n",
       "    </tr>\n",
       "    <tr>\n",
       "      <th>1</th>\n",
       "      <td>christianity</td>\n",
       "      <td>sex education article mar athos rutgers edu sw...</td>\n",
       "      <td>0.0529532</td>\n",
       "      <td>105784</td>\n",
       "      <td>{'relative': {'count': 4, 'probability': 2.787...</td>\n",
       "    </tr>\n",
       "    <tr>\n",
       "      <th>2</th>\n",
       "      <td>xwindows</td>\n",
       "      <td>th international obfuscated c code contest ope...</td>\n",
       "      <td>0.0525104</td>\n",
       "      <td>108877</td>\n",
       "      <td>{'relative': {'count': 5, 'probability': 3.288...</td>\n",
       "    </tr>\n",
       "    <tr>\n",
       "      <th>3</th>\n",
       "      <td>autos</td>\n",
       "      <td>saturn pricing policy article c vir l r shuksa...</td>\n",
       "      <td>0.052599</td>\n",
       "      <td>69104</td>\n",
       "      <td>{'relative': {'count': 5, 'probability': 4.205...</td>\n",
       "    </tr>\n",
       "    <tr>\n",
       "      <th>4</th>\n",
       "      <td>mac</td>\n",
       "      <td>nutek faces apple wrath article read article d...</td>\n",
       "      <td>0.0511821</td>\n",
       "      <td>54446</td>\n",
       "      <td>{'relative': {'count': 2, 'probability': 2.343...</td>\n",
       "    </tr>\n",
       "  </tbody>\n",
       "</table>\n",
       "</div>"
      ],
      "text/plain": [
       "           Type                                           Document  \\\n",
       "0      medicine  info needed gaucher disease yr old male friend...   \n",
       "1  christianity  sex education article mar athos rutgers edu sw...   \n",
       "2      xwindows  th international obfuscated c code contest ope...   \n",
       "3         autos  saturn pricing policy article c vir l r shuksa...   \n",
       "4           mac  nutek faces apple wrath article read article d...   \n",
       "\n",
       "  ClassProbability WordPositions  \\\n",
       "0         0.052599         96436   \n",
       "1        0.0529532        105784   \n",
       "2        0.0525104        108877   \n",
       "3         0.052599         69104   \n",
       "4        0.0511821         54446   \n",
       "\n",
       "                                           WordCount  \n",
       "0  {'relative': {'count': 5, 'probability': 3.529...  \n",
       "1  {'relative': {'count': 4, 'probability': 2.787...  \n",
       "2  {'relative': {'count': 5, 'probability': 3.288...  \n",
       "3  {'relative': {'count': 5, 'probability': 4.205...  \n",
       "4  {'relative': {'count': 2, 'probability': 2.343...  "
      ]
     },
     "execution_count": 14,
     "metadata": {},
     "output_type": "execute_result"
    }
   ],
   "source": [
    "stop_trained_frame.head()"
   ]
  },
  {
   "cell_type": "code",
   "execution_count": 37,
   "metadata": {},
   "outputs": [
    {
     "name": "stdout",
     "output_type": "stream",
     "text": [
      "0\n",
      "{'medicine': -701.3530822619599, 'christianity': -643.3727087043121, 'xwindows': -704.484467828216, 'autos': -702.5372727965214, 'mac': -702.0618383618051, 'graphics': -693.8391786159413, 'atheism': -636.6611137588839, 'forsale': -714.046463851709, 'pc': -701.2904105144935, 'hockey': -713.8593527754917, 'mswindows': -702.1776731642474, 'baseball': -705.663739414834, 'mideastpolitics': -695.2356392556017, 'politics': -685.6370625218344, 'guns': -696.3150796207135, 'religion': -663.5670101986237, 'electronics': -707.249531797451, 'cryptology': -709.962410411671, 'motorcycles': -707.856521121255, 'space': -696.7766510498247}\n",
      "Series([], Name: Type, dtype: object)\n",
      "predicted: atheism real: []\n"
     ]
    }
   ],
   "source": [
    "# Classify this shit:\n",
    "i = 0\n",
    "for index, row in testFrame.iterrows()\n",
    "    print(i)\n",
    "    i = i + 1\n",
    "    classification = {}\n",
    "    for docType in stop_trained_frame[\"Type\"]:\n",
    "        probabilities = []\n",
    "        doc = ' '.join([word for word in row[\"Document\"].split() if word not in cachedStopWords])\n",
    "        for word in doc.split():\n",
    "            if word+\"-\"+docType in stop_dict:\n",
    "                probabilities.append(math.log(stop_dict[word+\"-\"+docType]))\n",
    "            else:\n",
    "                probabilities.append(math.log(1/(stop_trained_frame[\"WordPositions\"][stop_trained_frame[\"Type\"]==docType]+len(stop_vocab))))\n",
    "        classification[docType] = math.log(stop_trained_frame[\"ClassProbability\"][stop_trained_frame[\"Type\"]==docType]) + sum(probabilities)\n",
    "    print(classification)\n",
    "    maxClass = None \n",
    "    for key, value in classification.items():\n",
    "        if value == max(classification.values()):\n",
    "            maxClass = key\n",
    "    print(testFrame[\"Type\"][testFrame[\"Document\"]==doc])\n",
    "    if maxClass == testFrame[\"Type\"][testFrame[\"Document\"]==doc].tolist():\n",
    "        print(\"Success! predicted: \"+ maxClass + \" real: \"+row[\"Type\"])\n",
    "    print(\"predicted: \"+ maxClass + \" real: \"+row[\"Type\"]))\n",
    "    break                           \n",
    "                                     \n",
    "                                     \n",
    "                                     \n",
    "                                     "
   ]
  },
  {
   "cell_type": "code",
   "execution_count": null,
   "metadata": {},
   "outputs": [],
   "source": []
  },
  {
   "cell_type": "code",
   "execution_count": null,
   "metadata": {},
   "outputs": [],
   "source": []
  }
 ],
 "metadata": {
  "kernelspec": {
   "display_name": "Python 3",
   "language": "python",
   "name": "python3"
  },
  "language_info": {
   "codemirror_mode": {
    "name": "ipython",
    "version": 3
   },
   "file_extension": ".py",
   "mimetype": "text/x-python",
   "name": "python",
   "nbconvert_exporter": "python",
   "pygments_lexer": "ipython3",
   "version": "3.6.5"
  }
 },
 "nbformat": 4,
 "nbformat_minor": 2
}
