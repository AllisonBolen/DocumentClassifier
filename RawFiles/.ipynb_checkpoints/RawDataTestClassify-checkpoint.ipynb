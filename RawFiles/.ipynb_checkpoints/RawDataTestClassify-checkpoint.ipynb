{
 "cells": [
  {
   "cell_type": "code",
   "execution_count": 121,
   "metadata": {},
   "outputs": [],
   "source": [
    "import pandas as pd\n",
    "import pickle\n",
    "from threading import Thread\n",
    "import os, math\n",
    "\n",
    "from nltk.corpus import stopwords\n",
    "from nltk.stem import SnowballStemmer\n",
    "import nltk\n",
    "stemmer = SnowballStemmer(\"english\")\n",
    "cachedStopWords = stopwords.words(\"english\")"
   ]
  },
  {
   "cell_type": "code",
   "execution_count": 122,
   "metadata": {},
   "outputs": [],
   "source": [
    "##methods\n",
    "            \n",
    "def save_it_all(obj, filename):\n",
    "    os.makedirs(os.path.dirname(filename), exist_ok=True)\n",
    "    with open(filename, 'wb') as output:  # Overwrites any existing file.\n",
    "        pickle.dump(obj, output, pickle.HIGHEST_PROTOCOL)\n",
    "    \n",
    "def load_objects(file):\n",
    "    with open(file, 'rb') as input:\n",
    "        return pickle.load(input)\n",
    "    \n",
    "def vocabDict(vocab, doc, n): # handles empty word sets\n",
    "    nk = 0\n",
    "    # n = the number of word postions for this document type\n",
    "    probability = math.log(nk + 1) - math.log(n + len(vocab))\n",
    "\n",
    "    newDict = {\"count\": 0, \"probability\":probability}\n",
    "    vdict = dict((el,newDict) for el in vocab)\n",
    "    return vdict\n",
    "\n",
    "def saveFrame(df, name):\n",
    "    df.to_csv(name+\".csv\", index=False, sep=\",\", header=True)\n",
    "    save_it_all(df, name+\".pkl\")\n",
    "    \n",
    "def getMaxClass(dictionary):\n",
    "    result = {\"class\": None, \"max\": None, \"values\": None}\n",
    "    maxVal = max(dictionary.values())\n",
    "    for key, value in dictionary.items():\n",
    "        if maxVal == value:\n",
    "            result[\"class\"] = key\n",
    "            result[\"max\"] = value\n",
    "            result[\"values\"] = dictionary\n",
    "    return result\n",
    "\n",
    "# niave bayes caclulation \n",
    "def classDict(df):\n",
    "    classificationDict = {}\n",
    "    for docType in df[\"Type\"]:\n",
    "        classificationDict[docType] = None\n",
    "    return classificationDict\n",
    "\n",
    "def process(trainedFrame, row, index, classProb, vocab):\n",
    "    for docType in trainedFrame[\"Type\"]:\n",
    "        wordProbs = 0\n",
    "        for word in row[\"Document\"].split():\n",
    "            if word in vocab:\n",
    "                #print(\"Word: \"+word + \", Prob: \" + str(trainedFrame['WordCount'][trainedFrame[\"Type\"] == docType].tolist()[0][word][\"probability\"]))\n",
    "                wordProbs = wordProbs + math.log(trainedFrame['WordCount'][trainedFrame[\"Type\"] == docType].tolist()[0][word][\"probability\"]) \n",
    "            else: # accounts for a new word we havent trained on \n",
    "                #print(trainedFrame['WordPositions'][trainedFrame[\"Type\"] == docType].tolist()[0])\n",
    "                wordProbs = wordProb + math.log((1)/(trainedFrame['WordPositions'][trainedFrame[\"Type\"] == docType].tolist()[0]))\n",
    "        classProb[docType] = wordProbs * trainedFrame['ClassProbability'][trainedFrame[\"Type\"] == docType].tolist()[0]\n",
    "    result = getMaxClass(classProb)\n",
    "    # resultFrame[\"Predicted\"].iloc[indexVal] \n",
    "    resultFrame.at[index, 'Predicted'] = result\n",
    "    \n",
    "    \n",
    "    "
   ]
  },
  {
   "cell_type": "code",
   "execution_count": 123,
   "metadata": {},
   "outputs": [],
   "source": [
    "# # load test data \n",
    "# # load in the test data\n",
    "# fileName = \"../forumTest.data\"\n",
    "\n",
    "# # main:\n",
    "# data = read(fileName)\n",
    "# sep_data, typesInfo, docsInfo = seperator(data)\n",
    "# write(sep_data)\n",
    "\n",
    "# dataFrameInitial = pd.DataFrame({\"Type\": typesInfo, \"Document\": docsInfo})"
   ]
  },
  {
   "cell_type": "code",
   "execution_count": 124,
   "metadata": {},
   "outputs": [],
   "source": [
    "# dataFrameInitial.count()\n",
    "# saveFrame(dataFrameInitial, \"./raw_test_data.csv\")"
   ]
  },
  {
   "cell_type": "code",
   "execution_count": 125,
   "metadata": {},
   "outputs": [],
   "source": [
    "# load files\n",
    "# load in docs you want to use:\n",
    "\n",
    "## trained data info data set for use:\n",
    "trainedFrame = load_objects(\"./raw_data_info_frame.pkl\")\n",
    "\n",
    "## vocabulary training set for use:\n",
    "vocabulary = load_objects(\"./raw_vocabulary.pkl\")\n",
    "\n",
    "# test data\n",
    "testFrame = pd.read_csv(\"./raw_test_data.csv\", sep=\",\")"
   ]
  },
  {
   "cell_type": "code",
   "execution_count": 126,
   "metadata": {},
   "outputs": [
    {
     "data": {
      "text/html": [
       "<div>\n",
       "<style scoped>\n",
       "    .dataframe tbody tr th:only-of-type {\n",
       "        vertical-align: middle;\n",
       "    }\n",
       "\n",
       "    .dataframe tbody tr th {\n",
       "        vertical-align: top;\n",
       "    }\n",
       "\n",
       "    .dataframe thead th {\n",
       "        text-align: right;\n",
       "    }\n",
       "</style>\n",
       "<table border=\"1\" class=\"dataframe\">\n",
       "  <thead>\n",
       "    <tr style=\"text-align: right;\">\n",
       "      <th></th>\n",
       "      <th>Type</th>\n",
       "      <th>Document</th>\n",
       "    </tr>\n",
       "  </thead>\n",
       "  <tbody>\n",
       "    <tr>\n",
       "      <th>0</th>\n",
       "      <td>atheism</td>\n",
       "      <td>re about the bible quiz answers in article hea...</td>\n",
       "    </tr>\n",
       "    <tr>\n",
       "      <th>1</th>\n",
       "      <td>atheism</td>\n",
       "      <td>re amusing atheists and agnostics in article t...</td>\n",
       "    </tr>\n",
       "    <tr>\n",
       "      <th>2</th>\n",
       "      <td>atheism</td>\n",
       "      <td>re yet more rushdie re islamic law jaeger buph...</td>\n",
       "    </tr>\n",
       "    <tr>\n",
       "      <th>3</th>\n",
       "      <td>atheism</td>\n",
       "      <td>re christian morality is in article vice ico t...</td>\n",
       "    </tr>\n",
       "    <tr>\n",
       "      <th>4</th>\n",
       "      <td>atheism</td>\n",
       "      <td>re after years can we say that christian moral...</td>\n",
       "    </tr>\n",
       "  </tbody>\n",
       "</table>\n",
       "</div>"
      ],
      "text/plain": [
       "      Type                                           Document\n",
       "0  atheism  re about the bible quiz answers in article hea...\n",
       "1  atheism  re amusing atheists and agnostics in article t...\n",
       "2  atheism  re yet more rushdie re islamic law jaeger buph...\n",
       "3  atheism  re christian morality is in article vice ico t...\n",
       "4  atheism  re after years can we say that christian moral..."
      ]
     },
     "execution_count": 126,
     "metadata": {},
     "output_type": "execute_result"
    }
   ],
   "source": [
    "testFrame.head()"
   ]
  },
  {
   "cell_type": "code",
   "execution_count": 127,
   "metadata": {},
   "outputs": [
    {
     "data": {
      "text/html": [
       "<div>\n",
       "<style scoped>\n",
       "    .dataframe tbody tr th:only-of-type {\n",
       "        vertical-align: middle;\n",
       "    }\n",
       "\n",
       "    .dataframe tbody tr th {\n",
       "        vertical-align: top;\n",
       "    }\n",
       "\n",
       "    .dataframe thead th {\n",
       "        text-align: right;\n",
       "    }\n",
       "</style>\n",
       "<table border=\"1\" class=\"dataframe\">\n",
       "  <thead>\n",
       "    <tr style=\"text-align: right;\">\n",
       "      <th></th>\n",
       "      <th>Type</th>\n",
       "      <th>Document</th>\n",
       "      <th>ClassProbability</th>\n",
       "      <th>WordPositions</th>\n",
       "      <th>WordCount</th>\n",
       "    </tr>\n",
       "  </thead>\n",
       "  <tbody>\n",
       "    <tr>\n",
       "      <th>0</th>\n",
       "      <td>mideastpolitics</td>\n",
       "      <td>re islam borders was israel misisipi to ganges...</td>\n",
       "      <td>0.0499424</td>\n",
       "      <td>272488</td>\n",
       "      <td>{'hepis': {'count': 0, 'probability': 2.888503...</td>\n",
       "    </tr>\n",
       "    <tr>\n",
       "      <th>1</th>\n",
       "      <td>politics</td>\n",
       "      <td>re media horrified at perot investigating bush...</td>\n",
       "      <td>0.0411759</td>\n",
       "      <td>202625</td>\n",
       "      <td>{'hepis': {'count': 0, 'probability': 3.618769...</td>\n",
       "    </tr>\n",
       "    <tr>\n",
       "      <th>2</th>\n",
       "      <td>religion</td>\n",
       "      <td>re religion and homosexuality magarret magnus ...</td>\n",
       "      <td>0.0333835</td>\n",
       "      <td>129611</td>\n",
       "      <td>{'hepis': {'count': 0, 'probability': 4.918282...</td>\n",
       "    </tr>\n",
       "    <tr>\n",
       "      <th>3</th>\n",
       "      <td>mac</td>\n",
       "      <td>re nutek faces apple s wrath article read in a...</td>\n",
       "      <td>0.0511821</td>\n",
       "      <td>97182</td>\n",
       "      <td>{'hepis': {'count': 0, 'probability': 5.851580...</td>\n",
       "    </tr>\n",
       "    <tr>\n",
       "      <th>4</th>\n",
       "      <td>forsale</td>\n",
       "      <td>motorcycle wanted followup to kedz wpi wpi edu...</td>\n",
       "      <td>0.051802</td>\n",
       "      <td>69761</td>\n",
       "      <td>{'hepis': {'count': 0, 'probability': 6.969952...</td>\n",
       "    </tr>\n",
       "  </tbody>\n",
       "</table>\n",
       "</div>"
      ],
      "text/plain": [
       "              Type                                           Document  \\\n",
       "0  mideastpolitics  re islam borders was israel misisipi to ganges...   \n",
       "1         politics  re media horrified at perot investigating bush...   \n",
       "2         religion  re religion and homosexuality magarret magnus ...   \n",
       "3              mac  re nutek faces apple s wrath article read in a...   \n",
       "4          forsale  motorcycle wanted followup to kedz wpi wpi edu...   \n",
       "\n",
       "  ClassProbability WordPositions  \\\n",
       "0        0.0499424        272488   \n",
       "1        0.0411759        202625   \n",
       "2        0.0333835        129611   \n",
       "3        0.0511821         97182   \n",
       "4         0.051802         69761   \n",
       "\n",
       "                                           WordCount  \n",
       "0  {'hepis': {'count': 0, 'probability': 2.888503...  \n",
       "1  {'hepis': {'count': 0, 'probability': 3.618769...  \n",
       "2  {'hepis': {'count': 0, 'probability': 4.918282...  \n",
       "3  {'hepis': {'count': 0, 'probability': 5.851580...  \n",
       "4  {'hepis': {'count': 0, 'probability': 6.969952...  "
      ]
     },
     "execution_count": 127,
     "metadata": {},
     "output_type": "execute_result"
    }
   ],
   "source": [
    "trainedFrame.head()"
   ]
  },
  {
   "cell_type": "code",
   "execution_count": 128,
   "metadata": {},
   "outputs": [],
   "source": [
    "# create my result frame:\n",
    "resultFrame = testFrame.copy()\n",
    "resultFrame[\"Predicted\"] = None\n",
    "saveFrame(resultFrame, \"./raw_result_frame\")"
   ]
  },
  {
   "cell_type": "code",
   "execution_count": 129,
   "metadata": {},
   "outputs": [
    {
     "name": "stdout",
     "output_type": "stream",
     "text": [
      "0\n",
      "Started: 0\n",
      "Ended:  0\n"
     ]
    }
   ],
   "source": [
    "# start predicting:\n",
    "jobs = []\n",
    "for index, row in testFrame.iterrows():\n",
    "    unique_id = index\n",
    "    print(unique_id)\n",
    "    classProb = classDict(trainedFrame)\n",
    "    \n",
    "    thread = Thread(target = process, args = (trainedFrame, row, index, classProb, vocabulary, ))\n",
    "    jobs.append(thread)\n",
    "    break\n",
    "    \n",
    "# start the model threads\n",
    "countS = 0\n",
    "for job in jobs:\n",
    "    print(\"Started: \" + str(countS))\n",
    "    countS = countS + 1\n",
    "    job.start()\n",
    "# wait for all threads to finish\n",
    "countE = 0\n",
    "for job in jobs:\n",
    "    print(\"Ended:  \" + str(countE))\n",
    "    countE = countE + 1\n",
    "    job.join()\n"
   ]
  },
  {
   "cell_type": "code",
   "execution_count": 130,
   "metadata": {},
   "outputs": [
    {
     "data": {
      "text/plain": [
       "{'class': 'graphics',\n",
       " 'max': 0.0,\n",
       " 'values': {'mideastpolitics': 0.0,\n",
       "  'politics': 0.0,\n",
       "  'religion': 0.0,\n",
       "  'mac': 0.0,\n",
       "  'forsale': 0.0,\n",
       "  'hockey': 0.0,\n",
       "  'mswindows': 0.0,\n",
       "  'xwindows': 0.0,\n",
       "  'medicine': 0.0,\n",
       "  'electronics': 0.0,\n",
       "  'space': 0.0,\n",
       "  'autos': 0.0,\n",
       "  'motorcycles': 0.0,\n",
       "  'atheism': 0.0,\n",
       "  'guns': 0.0,\n",
       "  'cryptology': 0.0,\n",
       "  'pc': 0.0,\n",
       "  'christianity': 0.0,\n",
       "  'baseball': 0.0,\n",
       "  'graphics': 0.0}}"
      ]
     },
     "execution_count": 130,
     "metadata": {},
     "output_type": "execute_result"
    }
   ],
   "source": [
    "resultFrame.at[0,\"Predicted\"]"
   ]
  },
  {
   "cell_type": "code",
   "execution_count": null,
   "metadata": {},
   "outputs": [],
   "source": []
  },
  {
   "cell_type": "code",
   "execution_count": null,
   "metadata": {},
   "outputs": [],
   "source": []
  }
 ],
 "metadata": {
  "kernelspec": {
   "display_name": "Python 3",
   "language": "python",
   "name": "python3"
  },
  "language_info": {
   "codemirror_mode": {
    "name": "ipython",
    "version": 3
   },
   "file_extension": ".py",
   "mimetype": "text/x-python",
   "name": "python",
   "nbconvert_exporter": "python",
   "pygments_lexer": "ipython3",
   "version": "3.6.5"
  }
 },
 "nbformat": 4,
 "nbformat_minor": 2
}
